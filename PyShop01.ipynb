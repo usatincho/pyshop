{
 "cells": [
  {
   "cell_type": "code",
   "execution_count": 1,
   "metadata": {},
   "outputs": [],
   "source": [
    "data='''\n",
    "NOTIFY * HTTP/1.1\n",
    "HOST: 239.255.255.250:1900\n",
    "CACHE-CONTROL: max-age=60\n",
    "LOCATION: http://172.24.1.1:5000/rootDesc.xml\n",
    "SERVER: OpenWRT/OpenWrt UPnP/1.1 MiniUPnPd/2.0\n",
    "NT: urn:schemas-upnp-org:device:InternetGatewayDevice:1\n",
    "USN: uuid:160a13d7-926e-4103-b6c6-3b34570c2921::urn:schemas-upnp-org:device:InternetGatewayDevice:1\n",
    "NTS: ssdp:alive\n",
    "OPT: \"http://schemas.upnp.org/upnp/1/0/\"; ns=01\n",
    "01-NLS: 1530181145\n",
    "BOOTID.UPNP.ORG: 1530181145\n",
    "CONFIGID.UPNP.ORG: 1337\n",
    "'''"
   ]
  },
  {
   "cell_type": "code",
   "execution_count": 13,
   "metadata": {},
   "outputs": [
    {
     "name": "stdout",
     "output_type": "stream",
     "text": [
      "http://172.24.1.1\n",
      "http://schemas.upnp.org/upnp/1/0/\n"
     ]
    }
   ],
   "source": [
    "# FIND URL \n",
    "\n",
    "import re\n",
    "\n",
    "url=list(re.findall('http://[a-z0-9\\./]*',data))\n",
    "\n",
    "for i in url:\n",
    "    print(i)"
   ]
  },
  {
   "cell_type": "code",
   "execution_count": 12,
   "metadata": {},
   "outputs": [
    {
     "name": "stdout",
     "output_type": "stream",
     "text": [
      "['160a13d7-926e-4103-b6c6-3b34570c2921']\n"
     ]
    }
   ],
   "source": [
    "# FIND UUID\n",
    "\n",
    "if 'uuid' in data:\n",
    "    print(re.findall('[a-z0-9\\-]{36}',data))"
   ]
  },
  {
   "cell_type": "code",
   "execution_count": null,
   "metadata": {},
   "outputs": [],
   "source": [
    "# FIND IP ADDRESS ?"
   ]
  }
 ],
 "metadata": {
  "kernelspec": {
   "display_name": "Python 3",
   "language": "python",
   "name": "python3"
  },
  "language_info": {
   "codemirror_mode": {
    "name": "ipython",
    "version": 3
   },
   "file_extension": ".py",
   "mimetype": "text/x-python",
   "name": "python",
   "nbconvert_exporter": "python",
   "pygments_lexer": "ipython3",
   "version": "3.6.5"
  }
 },
 "nbformat": 4,
 "nbformat_minor": 2
}
